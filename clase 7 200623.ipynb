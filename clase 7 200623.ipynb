{
  "nbformat": 4,
  "nbformat_minor": 0,
  "metadata": {
    "colab": {
      "provenance": [],
      "authorship_tag": "ABX9TyMAGZE0KYv+XqMcePIhNpP6",
      "include_colab_link": true
    },
    "kernelspec": {
      "name": "python3",
      "display_name": "Python 3"
    },
    "language_info": {
      "name": "python"
    }
  },
  "cells": [
    {
      "cell_type": "markdown",
      "metadata": {
        "id": "view-in-github",
        "colab_type": "text"
      },
      "source": [
        "<a href=\"https://colab.research.google.com/github/Merino1401/Econometria-II-2023/blob/main/clase%207%20200623.ipynb\" target=\"_parent\"><img src=\"https://colab.research.google.com/assets/colab-badge.svg\" alt=\"Open In Colab\"/></a>"
      ]
    },
    {
      "cell_type": "code",
      "execution_count": 7,
      "metadata": {
        "colab": {
          "base_uri": "https://localhost:8080/"
        },
        "id": "ST9iG454NzxB",
        "outputId": "888eff41-6152-4a4d-aed0-0f3b5285a4a3"
      },
      "outputs": [
        {
          "output_type": "stream",
          "name": "stderr",
          "text": [
            "<ipython-input-7-d0d5e28539e7>:2: UserWarning: Parsing dates in DD/MM/YYYY format when dayfirst=False (the default) was specified. This may lead to inconsistently parsed dates! Specify a format to ensure consistent parsing.\n",
            "  precios= pd.read_csv(\"Precios.csv\", parse_dates=[\"Date\"])\n"
          ]
        }
      ],
      "source": [
        "import pandas as pd\n",
        "precios= pd.read_csv(\"Precios.csv\", parse_dates=[\"Date\"])\n",
        "precios= precios.sort_values(by=\"Date\")\n",
        "precios.set_index(\"Date\", inplace=True)"
      ]
    },
    {
      "cell_type": "code",
      "source": [
        "import pandas as pd\n",
        "precios[ ]"
      ],
      "metadata": {
        "id": "mYmNiFhjRvqY"
      },
      "execution_count": null,
      "outputs": []
    }
  ]
}